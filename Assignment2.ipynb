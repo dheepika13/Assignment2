{
 "cells": [
  {
   "cell_type": "code",
   "execution_count": 1,
   "id": "4b1f6d8f",
   "metadata": {},
   "outputs": [],
   "source": [
    "#DHEEPIKA.I\n",
    "#REGISTER NO:21UAI023"
   ]
  },
  {
   "cell_type": "code",
   "execution_count": 14,
   "id": "a4a6e66d",
   "metadata": {},
   "outputs": [
    {
     "name": "stdout",
     "output_type": "stream",
     "text": [
      "Harry\n",
      "Potter\n",
      "Derived\n",
      "Harry Potter\n"
     ]
    }
   ],
   "source": [
    "#INHERITANCE\n",
    "class Base1(object):\n",
    "    def __init__(self):\n",
    "        self.str1 = \"Harry\"\n",
    "        print(self.str1)\n",
    " \n",
    " \n",
    "class Base2(object):\n",
    "    def __init__(self):\n",
    "        self.str2 = \"Potter\"\n",
    "        print(self.str2)\n",
    " \n",
    " \n",
    "class Derived(Base1, Base2):\n",
    "    def __init__(self):\n",
    " \n",
    "        Base1.__init__(self)\n",
    "        Base2.__init__(self)\n",
    "        print(\"Derived\")\n",
    " \n",
    "    def printStrs(self):\n",
    "        print(self.str1, self.str2)\n",
    " \n",
    " \n",
    "ob = Derived()\n",
    "ob.printStrs()"
   ]
  },
  {
   "cell_type": "code",
   "execution_count": 24,
   "id": "63c156fb",
   "metadata": {},
   "outputs": [
    {
     "name": "stdout",
     "output_type": "stream",
     "text": [
      "Dheepika 12 Pondicherry\n"
     ]
    }
   ],
   "source": [
    "class Base(object):\n",
    " \n",
    "    def __init__(self, name):\n",
    "        self.name = name\n",
    " \n",
    "    def getName(self):\n",
    "        return self.name\n",
    " \n",
    "\n",
    "class Child(Base):\n",
    " \n",
    "    def __init__(self, name, number):\n",
    "        Base.__init__(self, name)\n",
    "        self.number = number\n",
    " \n",
    "    def getnumber(self):\n",
    "        return self.number\n",
    " \n",
    " \n",
    "class GrandChild(Child):\n",
    " \n",
    "    def __init__(self, name, number, address):\n",
    "        Child.__init__(self, name, number)\n",
    "        self.address = address\n",
    " \n",
    "    def getAddress(self):\n",
    "        return self.address\n",
    " \n",
    "g = GrandChild(\"Dheepika\", 12, \"Pondicherry\")\n",
    "print(g.getName(), g.getnumber(), g.getAddress())"
   ]
  },
  {
   "cell_type": "code",
   "execution_count": 35,
   "id": "77768539",
   "metadata": {},
   "outputs": [
    {
     "name": "stdout",
     "output_type": "stream",
     "text": [
      "Days:  8\n",
      "Country:  Canada\n"
     ]
    }
   ],
   "source": [
    "#Public\n",
    "class tour:\n",
    "      \n",
    "     def __init__(self, country, days):\n",
    "           \n",
    "           self.tourcountry = country\n",
    "           self.tourdays = days\n",
    "      \n",
    "     def displaytour(self):\n",
    "           \n",
    "           print(\"Country: \", self.tourcountry)\n",
    " \n",
    "obj = tour(\"Canada\", 8)\n",
    " \n",
    "print(\"Days: \", obj.tourdays)\n",
    " \n",
    "obj.displaytour()"
   ]
  },
  {
   "cell_type": "code",
   "execution_count": 127,
   "id": "6ffc8e00",
   "metadata": {},
   "outputs": [
    {
     "name": "stdout",
     "output_type": "stream",
     "text": [
      "Name:  Dheepika\n",
      "Roll:  213141\n",
      "Branch:  AI&DS\n"
     ]
    }
   ],
   "source": [
    "#Protected\n",
    "class Student:\n",
    "    \n",
    "     _name = None\n",
    "     _roll = None\n",
    "     _branch = None\n",
    "    \n",
    "     def __init__(self, name, roll, branch): \n",
    "          self._name = name\n",
    "          self._roll = roll\n",
    "          self._branch = branch\n",
    "      \n",
    "     def _displayRollAndBranch(self):\n",
    " \n",
    "          print(\"Roll: \", self._roll)\n",
    "          print(\"Branch: \", self._branch)\n",
    " \n",
    " \n",
    "class Geek(Student):\n",
    " \n",
    "\n",
    "       def __init__(self, name, roll, branch):\n",
    "                Student.__init__(self, name, roll, branch)\n",
    "         \n",
    "       def displayDetails(self):\n",
    "                   \n",
    "                print(\"Name: \", self._name)\n",
    "                   \n",
    "                self._displayRollAndBranch()\n",
    " \n",
    "     \n",
    "obj = Geek(\"Dheepika\", 213141, \"AI&DS\")\n",
    " \n",
    "\n",
    "obj.displayDetails()\n"
   ]
  },
  {
   "cell_type": "code",
   "execution_count": 128,
   "id": "c1dce9b0",
   "metadata": {},
   "outputs": [
    {
     "data": {
      "text/plain": [
       "array([0, None, 3, 2], dtype=object)"
      ]
     },
     "execution_count": 128,
     "metadata": {},
     "output_type": "execute_result"
    }
   ],
   "source": [
    "#Exception Handling\n",
    "import numpy as np\n",
    "import pandas as pd\n",
    "eh = np.array([0, None, 3, 2])\n",
    "eh"
   ]
  },
  {
   "cell_type": "code",
   "execution_count": 129,
   "id": "2ef8791a",
   "metadata": {},
   "outputs": [
    {
     "name": "stdout",
     "output_type": "stream",
     "text": [
      "dtype = object\n",
      "105 ms ± 2.47 ms per loop (mean ± std. dev. of 7 runs, 10 loops each)\n",
      "\n",
      "dtype = int\n",
      "3.51 ms ± 96.8 µs per loop (mean ± std. dev. of 7 runs, 100 loops each)\n",
      "\n"
     ]
    }
   ],
   "source": [
    "for dtype in ['object', 'int']:\n",
    "    print(\"dtype =\", dtype)\n",
    "    %timeit np.arange(1E6, dtype=dtype).sum()\n",
    "    print()"
   ]
  },
  {
   "cell_type": "code",
   "execution_count": 130,
   "id": "65369c73",
   "metadata": {},
   "outputs": [
    {
     "data": {
      "text/plain": [
       "dtype('int32')"
      ]
     },
     "execution_count": 130,
     "metadata": {},
     "output_type": "execute_result"
    }
   ],
   "source": [
    "eh1 = np.array([55, 0, 1, 12]) \n",
    "eh1.dtype"
   ]
  },
  {
   "cell_type": "code",
   "execution_count": 131,
   "id": "8fd8089d",
   "metadata": {},
   "outputs": [
    {
     "data": {
      "text/plain": [
       "(68, 0, 55)"
      ]
     },
     "execution_count": 131,
     "metadata": {},
     "output_type": "execute_result"
    }
   ],
   "source": [
    "eh1.sum(), eh1.min(), eh1.max()"
   ]
  },
  {
   "cell_type": "code",
   "execution_count": 132,
   "id": "5fc020eb",
   "metadata": {},
   "outputs": [
    {
     "data": {
      "text/plain": [
       "(68, 0, 55)"
      ]
     },
     "execution_count": 132,
     "metadata": {},
     "output_type": "execute_result"
    }
   ],
   "source": [
    "np.nansum(eh1), np.nanmin(eh1), np.nanmax(eh1)"
   ]
  },
  {
   "cell_type": "code",
   "execution_count": 133,
   "id": "2fddbaa6",
   "metadata": {},
   "outputs": [
    {
     "data": {
      "text/plain": [
       "0    0\n",
       "1    1\n",
       "2    2\n",
       "3    3\n",
       "4    4\n",
       "5    5\n",
       "6    6\n",
       "7    7\n",
       "dtype: int32"
      ]
     },
     "execution_count": 133,
     "metadata": {},
     "output_type": "execute_result"
    }
   ],
   "source": [
    "a = pd.Series(range(8), dtype=int)\n",
    "a"
   ]
  },
  {
   "cell_type": "code",
   "execution_count": 134,
   "id": "9b017d73",
   "metadata": {},
   "outputs": [
    {
     "data": {
      "text/plain": [
       "0    NaN\n",
       "1    1.0\n",
       "2    2.0\n",
       "3    3.0\n",
       "4    4.0\n",
       "5    5.0\n",
       "6    6.0\n",
       "7    7.0\n",
       "dtype: float64"
      ]
     },
     "execution_count": 134,
     "metadata": {},
     "output_type": "execute_result"
    }
   ],
   "source": [
    "a[0] = None\n",
    "a"
   ]
  },
  {
   "cell_type": "code",
   "execution_count": 135,
   "id": "e020c72c",
   "metadata": {},
   "outputs": [
    {
     "data": {
      "text/plain": [
       "0      46\n",
       "1      is\n",
       "2    None\n",
       "dtype: object"
      ]
     },
     "execution_count": 135,
     "metadata": {},
     "output_type": "execute_result"
    }
   ],
   "source": [
    "data = pd.Series([46, 'is', None])\n",
    "data"
   ]
  },
  {
   "cell_type": "code",
   "execution_count": 136,
   "id": "69c45b78",
   "metadata": {},
   "outputs": [
    {
     "data": {
      "text/plain": [
       "0    False\n",
       "1    False\n",
       "2     True\n",
       "dtype: bool"
      ]
     },
     "execution_count": 136,
     "metadata": {},
     "output_type": "execute_result"
    }
   ],
   "source": [
    "data.isnull()"
   ]
  },
  {
   "cell_type": "code",
   "execution_count": 137,
   "id": "17d45249",
   "metadata": {},
   "outputs": [
    {
     "data": {
      "text/plain": [
       "0    46\n",
       "1    is\n",
       "dtype: object"
      ]
     },
     "execution_count": 137,
     "metadata": {},
     "output_type": "execute_result"
    }
   ],
   "source": [
    "data.dropna()"
   ]
  },
  {
   "cell_type": "code",
   "execution_count": 138,
   "id": "73dbe861",
   "metadata": {},
   "outputs": [
    {
     "name": "stdout",
     "output_type": "stream",
     "text": [
      "    0    1  2\n",
      "0   4  NaN  2\n",
      "1   3  8.0  7\n",
      "2  89  2.0  9\n"
     ]
    },
    {
     "data": {
      "text/html": [
       "<div>\n",
       "<style scoped>\n",
       "    .dataframe tbody tr th:only-of-type {\n",
       "        vertical-align: middle;\n",
       "    }\n",
       "\n",
       "    .dataframe tbody tr th {\n",
       "        vertical-align: top;\n",
       "    }\n",
       "\n",
       "    .dataframe thead th {\n",
       "        text-align: right;\n",
       "    }\n",
       "</style>\n",
       "<table border=\"1\" class=\"dataframe\">\n",
       "  <thead>\n",
       "    <tr style=\"text-align: right;\">\n",
       "      <th></th>\n",
       "      <th>0</th>\n",
       "      <th>2</th>\n",
       "    </tr>\n",
       "  </thead>\n",
       "  <tbody>\n",
       "    <tr>\n",
       "      <th>0</th>\n",
       "      <td>4</td>\n",
       "      <td>2</td>\n",
       "    </tr>\n",
       "    <tr>\n",
       "      <th>1</th>\n",
       "      <td>3</td>\n",
       "      <td>7</td>\n",
       "    </tr>\n",
       "    <tr>\n",
       "      <th>2</th>\n",
       "      <td>89</td>\n",
       "      <td>9</td>\n",
       "    </tr>\n",
       "  </tbody>\n",
       "</table>\n",
       "</div>"
      ],
      "text/plain": [
       "    0  2\n",
       "0   4  2\n",
       "1   3  7\n",
       "2  89  9"
      ]
     },
     "execution_count": 138,
     "metadata": {},
     "output_type": "execute_result"
    }
   ],
   "source": [
    "df = pd.DataFrame([[4,      np.nan, 2],\n",
    "                   [3,      8,      7],\n",
    "                   [89, 2,      9]])\n",
    "print(df)\n",
    "df.dropna(axis='columns')"
   ]
  },
  {
   "cell_type": "code",
   "execution_count": 139,
   "id": "397b2456",
   "metadata": {},
   "outputs": [
    {
     "data": {
      "text/plain": [
       "<re.Match object; span=(0, 3), match='The'>"
      ]
     },
     "execution_count": 139,
     "metadata": {},
     "output_type": "execute_result"
    }
   ],
   "source": [
    "#Regular Expression\n",
    "import re\n",
    "\n",
    "thistext = \"The Student\"\n",
    "a = re.search(\"^The\", thistext)\n",
    "a"
   ]
  },
  {
   "cell_type": "code",
   "execution_count": 140,
   "id": "a11fbde4",
   "metadata": {},
   "outputs": [
    {
     "data": {
      "text/plain": [
       "['tud']"
      ]
     },
     "execution_count": 140,
     "metadata": {},
     "output_type": "execute_result"
    }
   ],
   "source": [
    "import re\n",
    "\n",
    "thetext = \"The Student\"\n",
    "a = re.findall(\"tud\", thetext)\n",
    "a"
   ]
  },
  {
   "cell_type": "code",
   "execution_count": 141,
   "id": "d0525acf",
   "metadata": {},
   "outputs": [
    {
     "data": {
      "text/plain": [
       "[]"
      ]
     },
     "execution_count": 141,
     "metadata": {},
     "output_type": "execute_result"
    }
   ],
   "source": [
    "import re\n",
    "\n",
    "thetext = \"The Student\"\n",
    "a = re.findall(\"w\", thetext)\n",
    "a"
   ]
  },
  {
   "cell_type": "code",
   "execution_count": 142,
   "id": "a883ebfc",
   "metadata": {},
   "outputs": [
    {
     "name": "stdout",
     "output_type": "stream",
     "text": [
      "The first white-space character is located in position: 3\n"
     ]
    }
   ],
   "source": [
    "import re\n",
    "\n",
    "thetext = \"The Student\"\n",
    "a = re.search(\"\\s\", thetext)\n",
    "\n",
    "print(\"The first white-space character is located in position:\", a.start())"
   ]
  },
  {
   "cell_type": "code",
   "execution_count": 143,
   "id": "40efc657",
   "metadata": {},
   "outputs": [
    {
     "data": {
      "text/plain": [
       "['The', 'Student']"
      ]
     },
     "execution_count": 143,
     "metadata": {},
     "output_type": "execute_result"
    }
   ],
   "source": [
    "import re\n",
    "\n",
    "thetext = \"The Student\"\n",
    "a = re.split(\"\\s\", thetext)\n",
    "a"
   ]
  },
  {
   "cell_type": "code",
   "execution_count": 144,
   "id": "fe5fb5ca",
   "metadata": {},
   "outputs": [
    {
     "data": {
      "text/plain": [
       "'The^Student'"
      ]
     },
     "execution_count": 144,
     "metadata": {},
     "output_type": "execute_result"
    }
   ],
   "source": [
    "import re\n",
    "\n",
    "thetext = \"The Student\"\n",
    "a = re.sub(\"\\s\",\"^\", thetext)\n",
    "a"
   ]
  },
  {
   "cell_type": "code",
   "execution_count": 145,
   "id": "220fa40d",
   "metadata": {},
   "outputs": [
    {
     "name": "stdout",
     "output_type": "stream",
     "text": [
      "The4Student\n"
     ]
    }
   ],
   "source": [
    "import re\n",
    "\n",
    "text = \"The Student\"\n",
    "x = re.sub(\"\\s\", \"4\", text, 1)\n",
    "print(x)"
   ]
  },
  {
   "cell_type": "markdown",
   "id": "d01e2236",
   "metadata": {},
   "source": []
  },
  {
   "cell_type": "code",
   "execution_count": 146,
   "id": "83cc330f",
   "metadata": {},
   "outputs": [
    {
     "name": "stdout",
     "output_type": "stream",
     "text": [
      "     A    B    C\n",
      "0  1.0  2.0  3.0\n",
      "1  4.0  5.0  6.0\n",
      "2  7.0  8.0  9.0\n",
      "3  NaN  NaN  NaN\n",
      "        A     B     C\n",
      "sum  12.0  15.0  18.0\n",
      "min   1.0   2.0   3.0\n",
      "        A    B\n",
      "sum  12.0  NaN\n",
      "min   1.0  2.0\n",
      "max   NaN  8.0\n",
      "0    2.0\n",
      "1    5.0\n",
      "2    8.0\n",
      "3    NaN\n",
      "dtype: float64\n",
      "A    4.0\n",
      "B    5.0\n",
      "C    6.0\n",
      "dtype: float64\n"
     ]
    }
   ],
   "source": [
    "#numpy\n",
    "#aggregation\n",
    "import pandas as pd\n",
    "import numpy as np\n",
    "df = pd.DataFrame([[1, 2, 3],\n",
    "                   [4, 5, 6],\n",
    "                   [7, 8, 9],\n",
    "                   [np.nan, np.nan, np.nan]],\n",
    "                  columns=['A', 'B', 'C'])\n",
    "print(df)\n",
    "print(df.agg(['sum', 'min']))\n",
    "print(df.agg({'A' : ['sum', 'min'], 'B' : ['min', 'max']}))\n",
    "print(df.agg(\"mean\", axis=\"columns\"))\n",
    "print(df.agg(\"mean\", axis=\"rows\"))"
   ]
  },
  {
   "cell_type": "code",
   "execution_count": 147,
   "id": "cc1f2389",
   "metadata": {},
   "outputs": [
    {
     "name": "stdout",
     "output_type": "stream",
     "text": [
      "No\n",
      "Yes\n",
      "Yes\n"
     ]
    }
   ],
   "source": [
    "#Comparison\n",
    "ab1 = [2, 4, 6]\n",
    "ab2 = [3, 6, 9]\n",
    "  \n",
    "if  ab1 is ab2:\n",
    "    print(\"Yes\")\n",
    "else:\n",
    "    print(\"No\")\n",
    "  \n",
    "ab3 = ab1\n",
    "  \n",
    "# So we get \"Yes\" here\n",
    "if  ab1 is ab3:\n",
    "    print(\"Yes\")\n",
    "else:\n",
    "    print(\"No\")\n",
    "\n",
    "if  ab1 == ab3:\n",
    "    print(\"Yes\")\n",
    "else:\n",
    "    print(\"No\")"
   ]
  },
  {
   "cell_type": "code",
   "execution_count": 148,
   "id": "fd1f4561",
   "metadata": {},
   "outputs": [
    {
     "name": "stdout",
     "output_type": "stream",
     "text": [
      "True\n"
     ]
    }
   ],
   "source": [
    "m = 66\n",
    "n = 66\n",
    "\n",
    "print(m == n)"
   ]
  },
  {
   "cell_type": "code",
   "execution_count": 149,
   "id": "cf1740cb",
   "metadata": {},
   "outputs": [
    {
     "name": "stdout",
     "output_type": "stream",
     "text": [
      "True\n",
      "False\n",
      "True\n"
     ]
    }
   ],
   "source": [
    "m=84\n",
    "n=35\n",
    "print(m != n)\n",
    "print(m < n)\n",
    "print(m > n)"
   ]
  },
  {
   "cell_type": "code",
   "execution_count": 150,
   "id": "c20697d2",
   "metadata": {},
   "outputs": [
    {
     "name": "stdout",
     "output_type": "stream",
     "text": [
      "True\n",
      "False\n"
     ]
    }
   ],
   "source": [
    "print(m >= n)\n",
    "print(m <= n)"
   ]
  },
  {
   "cell_type": "code",
   "execution_count": 151,
   "id": "5c6717b9",
   "metadata": {},
   "outputs": [
    {
     "data": {
      "text/html": [
       "<div>\n",
       "<style scoped>\n",
       "    .dataframe tbody tr th:only-of-type {\n",
       "        vertical-align: middle;\n",
       "    }\n",
       "\n",
       "    .dataframe tbody tr th {\n",
       "        vertical-align: top;\n",
       "    }\n",
       "\n",
       "    .dataframe thead th {\n",
       "        text-align: right;\n",
       "    }\n",
       "</style>\n",
       "<table border=\"1\" class=\"dataframe\">\n",
       "  <thead>\n",
       "    <tr style=\"text-align: right;\">\n",
       "      <th></th>\n",
       "      <th>A</th>\n",
       "      <th>B</th>\n",
       "      <th>C</th>\n",
       "      <th>D</th>\n",
       "    </tr>\n",
       "  </thead>\n",
       "  <tbody>\n",
       "    <tr>\n",
       "      <th>0</th>\n",
       "      <td>8</td>\n",
       "      <td>78</td>\n",
       "      <td>48</td>\n",
       "      <td>82</td>\n",
       "    </tr>\n",
       "    <tr>\n",
       "      <th>1</th>\n",
       "      <td>45</td>\n",
       "      <td>57</td>\n",
       "      <td>16</td>\n",
       "      <td>73</td>\n",
       "    </tr>\n",
       "    <tr>\n",
       "      <th>2</th>\n",
       "      <td>83</td>\n",
       "      <td>28</td>\n",
       "      <td>83</td>\n",
       "      <td>34</td>\n",
       "    </tr>\n",
       "    <tr>\n",
       "      <th>3</th>\n",
       "      <td>64</td>\n",
       "      <td>86</td>\n",
       "      <td>76</td>\n",
       "      <td>20</td>\n",
       "    </tr>\n",
       "    <tr>\n",
       "      <th>4</th>\n",
       "      <td>12</td>\n",
       "      <td>78</td>\n",
       "      <td>99</td>\n",
       "      <td>61</td>\n",
       "    </tr>\n",
       "  </tbody>\n",
       "</table>\n",
       "</div>"
      ],
      "text/plain": [
       "    A   B   C   D\n",
       "0   8  78  48  82\n",
       "1  45  57  16  73\n",
       "2  83  28  83  34\n",
       "3  64  86  76  20\n",
       "4  12  78  99  61"
      ]
     },
     "execution_count": 151,
     "metadata": {},
     "output_type": "execute_result"
    }
   ],
   "source": [
    "#Mask\n",
    "import pandas as pd\n",
    "\n",
    "df = pd.DataFrame({\"A\":[8, 45, 83, 64, 12],\n",
    "                   \"B\":[78, 57, 28, 86, 78],\n",
    "                   \"C\":[48, 16, 83, 76,99],\n",
    "                   \"D\":[82, 73, 34, 20, 61]})\n",
    "  \n",
    "df"
   ]
  },
  {
   "cell_type": "code",
   "execution_count": 152,
   "id": "0d1bd8de",
   "metadata": {},
   "outputs": [
    {
     "data": {
      "text/html": [
       "<div>\n",
       "<style scoped>\n",
       "    .dataframe tbody tr th:only-of-type {\n",
       "        vertical-align: middle;\n",
       "    }\n",
       "\n",
       "    .dataframe tbody tr th {\n",
       "        vertical-align: top;\n",
       "    }\n",
       "\n",
       "    .dataframe thead th {\n",
       "        text-align: right;\n",
       "    }\n",
       "</style>\n",
       "<table border=\"1\" class=\"dataframe\">\n",
       "  <thead>\n",
       "    <tr style=\"text-align: right;\">\n",
       "      <th></th>\n",
       "      <th>A</th>\n",
       "      <th>B</th>\n",
       "      <th>C</th>\n",
       "      <th>D</th>\n",
       "    </tr>\n",
       "  </thead>\n",
       "  <tbody>\n",
       "    <tr>\n",
       "      <th>0</th>\n",
       "      <td>8</td>\n",
       "      <td>-2</td>\n",
       "      <td>-2</td>\n",
       "      <td>-2</td>\n",
       "    </tr>\n",
       "    <tr>\n",
       "      <th>1</th>\n",
       "      <td>-2</td>\n",
       "      <td>-2</td>\n",
       "      <td>-2</td>\n",
       "      <td>-2</td>\n",
       "    </tr>\n",
       "    <tr>\n",
       "      <th>2</th>\n",
       "      <td>-2</td>\n",
       "      <td>-2</td>\n",
       "      <td>-2</td>\n",
       "      <td>-2</td>\n",
       "    </tr>\n",
       "    <tr>\n",
       "      <th>3</th>\n",
       "      <td>-2</td>\n",
       "      <td>-2</td>\n",
       "      <td>-2</td>\n",
       "      <td>-2</td>\n",
       "    </tr>\n",
       "    <tr>\n",
       "      <th>4</th>\n",
       "      <td>-2</td>\n",
       "      <td>-2</td>\n",
       "      <td>-2</td>\n",
       "      <td>-2</td>\n",
       "    </tr>\n",
       "  </tbody>\n",
       "</table>\n",
       "</div>"
      ],
      "text/plain": [
       "   A  B  C  D\n",
       "0  8 -2 -2 -2\n",
       "1 -2 -2 -2 -2\n",
       "2 -2 -2 -2 -2\n",
       "3 -2 -2 -2 -2\n",
       "4 -2 -2 -2 -2"
      ]
     },
     "execution_count": 152,
     "metadata": {},
     "output_type": "execute_result"
    }
   ],
   "source": [
    "df.mask(df > 8, -2)"
   ]
  },
  {
   "cell_type": "code",
   "execution_count": 153,
   "id": "3658917b",
   "metadata": {},
   "outputs": [
    {
     "data": {
      "text/html": [
       "<div>\n",
       "<style scoped>\n",
       "    .dataframe tbody tr th:only-of-type {\n",
       "        vertical-align: middle;\n",
       "    }\n",
       "\n",
       "    .dataframe tbody tr th {\n",
       "        vertical-align: top;\n",
       "    }\n",
       "\n",
       "    .dataframe thead th {\n",
       "        text-align: right;\n",
       "    }\n",
       "</style>\n",
       "<table border=\"1\" class=\"dataframe\">\n",
       "  <thead>\n",
       "    <tr style=\"text-align: right;\">\n",
       "      <th></th>\n",
       "      <th>A</th>\n",
       "      <th>B</th>\n",
       "      <th>C</th>\n",
       "      <th>D</th>\n",
       "    </tr>\n",
       "  </thead>\n",
       "  <tbody>\n",
       "    <tr>\n",
       "      <th>0</th>\n",
       "      <td>1.0</td>\n",
       "      <td>6.0</td>\n",
       "      <td>11</td>\n",
       "      <td>16.0</td>\n",
       "    </tr>\n",
       "    <tr>\n",
       "      <th>1</th>\n",
       "      <td>2.0</td>\n",
       "      <td>7.0</td>\n",
       "      <td>12</td>\n",
       "      <td>17.0</td>\n",
       "    </tr>\n",
       "    <tr>\n",
       "      <th>2</th>\n",
       "      <td>3.0</td>\n",
       "      <td>8.0</td>\n",
       "      <td>13</td>\n",
       "      <td>1000.0</td>\n",
       "    </tr>\n",
       "    <tr>\n",
       "      <th>3</th>\n",
       "      <td>1000.0</td>\n",
       "      <td>9.0</td>\n",
       "      <td>14</td>\n",
       "      <td>19.0</td>\n",
       "    </tr>\n",
       "    <tr>\n",
       "      <th>4</th>\n",
       "      <td>5.0</td>\n",
       "      <td>1000.0</td>\n",
       "      <td>15</td>\n",
       "      <td>20.0</td>\n",
       "    </tr>\n",
       "  </tbody>\n",
       "</table>\n",
       "</div>"
      ],
      "text/plain": [
       "        A       B   C       D\n",
       "0     1.0     6.0  11    16.0\n",
       "1     2.0     7.0  12    17.0\n",
       "2     3.0     8.0  13  1000.0\n",
       "3  1000.0     9.0  14    19.0\n",
       "4     5.0  1000.0  15    20.0"
      ]
     },
     "execution_count": 153,
     "metadata": {},
     "output_type": "execute_result"
    }
   ],
   "source": [
    "import pandas as pd\n",
    "   \n",
    "df = pd.DataFrame({\"A\":[1, 2, 3, None, 5],\n",
    "                   \"B\":[6, 7, 8, 9, None],\n",
    "                   \"C\":[11, 12, 13, 14, 15],\n",
    "                   \"D\":[16, 17, None, 19, 20]})\n",
    "  \n",
    "df.mask(df.isna(), 1000)"
   ]
  },
  {
   "cell_type": "code",
   "execution_count": 154,
   "id": "0edecfde",
   "metadata": {},
   "outputs": [
    {
     "name": "stdout",
     "output_type": "stream",
     "text": [
      "The True initialized list is : [True, True, True, True, True]\n"
     ]
    }
   ],
   "source": [
    "#Boolean Array\n",
    "r=  [True for i in range(5)]\n",
    " \n",
    "print (\"The True initialized list is : \" +  str(r))"
   ]
  },
  {
   "cell_type": "code",
   "execution_count": 155,
   "id": "ed66aa83",
   "metadata": {},
   "outputs": [
    {
     "name": "stdout",
     "output_type": "stream",
     "text": [
      "The True initialized list is : [True, True, True]\n"
     ]
    }
   ],
   "source": [
    "r =  [True] * 3\n",
    "\n",
    "print (\"The True initialized list is : \" +  str(r))"
   ]
  },
  {
   "cell_type": "code",
   "execution_count": 156,
   "id": "86ba5643",
   "metadata": {},
   "outputs": [
    {
     "name": "stdout",
     "output_type": "stream",
     "text": [
      "The False initialized list is : [0, 0, 0, 0, 0, 0, 0, 0, 0, 0, 0, 0, 0, 0, 0, 0, 0, 0, 0, 0]\n"
     ]
    }
   ],
   "source": [
    "a = list(bytearray(20))\n",
    "\n",
    "print (\"The False initialized list is : \" +  str(a))"
   ]
  },
  {
   "cell_type": "code",
   "execution_count": 157,
   "id": "e377aa75",
   "metadata": {},
   "outputs": [
    {
     "name": "stdout",
     "output_type": "stream",
     "text": [
      "bool\n",
      "bool\n"
     ]
    }
   ],
   "source": [
    "arr_1 = np.random.randn(5, 4)\n",
    "arr_2 = np.random.randn(5, 4)\n",
    "\n",
    "bool_arr = arr_1 < 0.5    \n",
    "print(bool_arr.dtype)\n",
    "\n",
    "bool_arr = arr_1 < arr_2\n",
    "print(bool_arr.dtype)"
   ]
  },
  {
   "cell_type": "code",
   "execution_count": null,
   "id": "a26e4670",
   "metadata": {},
   "outputs": [],
   "source": []
  },
  {
   "cell_type": "code",
   "execution_count": null,
   "id": "3b2b0209",
   "metadata": {},
   "outputs": [],
   "source": []
  }
 ],
 "metadata": {
  "kernelspec": {
   "display_name": "Python 3 (ipykernel)",
   "language": "python",
   "name": "python3"
  },
  "language_info": {
   "codemirror_mode": {
    "name": "ipython",
    "version": 3
   },
   "file_extension": ".py",
   "mimetype": "text/x-python",
   "name": "python",
   "nbconvert_exporter": "python",
   "pygments_lexer": "ipython3",
   "version": "3.9.12"
  }
 },
 "nbformat": 4,
 "nbformat_minor": 5
}
